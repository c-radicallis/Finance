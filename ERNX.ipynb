{
 "cells": [
  {
   "cell_type": "code",
   "execution_count": 31,
   "id": "cb4845f7",
   "metadata": {},
   "outputs": [
    {
     "name": "stderr",
     "output_type": "stream",
     "text": [
      "[*********************100%***********************]  1 of 1 completed\n"
     ]
    },
    {
     "data": {
      "application/vnd.microsoft.datawrangler.viewer.v0+json": {
       "columns": [
        {
         "name": "Datetime",
         "rawType": "datetime64[ns, UTC]",
         "type": "unknown"
        },
        {
         "name": "('Close', 'ERNX.DE')",
         "rawType": "float64",
         "type": "float"
        },
        {
         "name": "('High', 'ERNX.DE')",
         "rawType": "float64",
         "type": "float"
        },
        {
         "name": "('Low', 'ERNX.DE')",
         "rawType": "float64",
         "type": "float"
        },
        {
         "name": "('Open', 'ERNX.DE')",
         "rawType": "float64",
         "type": "float"
        },
        {
         "name": "('Volume', 'ERNX.DE')",
         "rawType": "int64",
         "type": "integer"
        }
       ],
       "conversionMethod": "pd.DataFrame",
       "ref": "967b1825-2b16-4b3e-a651-ffefddf8645f",
       "rows": [
        [
         "2025-04-07 07:04:00+00:00",
         "5.419400215148926",
         "5.4274001121521",
         "5.419400215148926",
         "5.4274001121521",
         "0"
        ],
        [
         "2025-04-07 07:06:00+00:00",
         "5.421599864959717",
         "5.421599864959717",
         "5.421599864959717",
         "5.421599864959717",
         "2"
        ],
        [
         "2025-04-07 07:08:00+00:00",
         "5.415800094604492",
         "5.421000003814697",
         "5.415800094604492",
         "5.418399810791016",
         "10112"
        ],
        [
         "2025-04-07 07:12:00+00:00",
         "5.41540002822876",
         "5.420000076293945",
         "5.41540002822876",
         "5.4197998046875",
         "2412"
        ],
        [
         "2025-04-07 07:14:00+00:00",
         "5.420199871063232",
         "5.420199871063232",
         "5.420199871063232",
         "5.420199871063232",
         "4"
        ]
       ],
       "shape": {
        "columns": 5,
        "rows": 5
       }
      },
      "text/html": [
       "<div>\n",
       "<style scoped>\n",
       "    .dataframe tbody tr th:only-of-type {\n",
       "        vertical-align: middle;\n",
       "    }\n",
       "\n",
       "    .dataframe tbody tr th {\n",
       "        vertical-align: top;\n",
       "    }\n",
       "\n",
       "    .dataframe thead tr th {\n",
       "        text-align: left;\n",
       "    }\n",
       "\n",
       "    .dataframe thead tr:last-of-type th {\n",
       "        text-align: right;\n",
       "    }\n",
       "</style>\n",
       "<table border=\"1\" class=\"dataframe\">\n",
       "  <thead>\n",
       "    <tr>\n",
       "      <th>Price</th>\n",
       "      <th>Close</th>\n",
       "      <th>High</th>\n",
       "      <th>Low</th>\n",
       "      <th>Open</th>\n",
       "      <th>Volume</th>\n",
       "    </tr>\n",
       "    <tr>\n",
       "      <th>Ticker</th>\n",
       "      <th>ERNX.DE</th>\n",
       "      <th>ERNX.DE</th>\n",
       "      <th>ERNX.DE</th>\n",
       "      <th>ERNX.DE</th>\n",
       "      <th>ERNX.DE</th>\n",
       "    </tr>\n",
       "    <tr>\n",
       "      <th>Datetime</th>\n",
       "      <th></th>\n",
       "      <th></th>\n",
       "      <th></th>\n",
       "      <th></th>\n",
       "      <th></th>\n",
       "    </tr>\n",
       "  </thead>\n",
       "  <tbody>\n",
       "    <tr>\n",
       "      <th>2025-04-07 07:04:00+00:00</th>\n",
       "      <td>5.4194</td>\n",
       "      <td>5.4274</td>\n",
       "      <td>5.4194</td>\n",
       "      <td>5.4274</td>\n",
       "      <td>0</td>\n",
       "    </tr>\n",
       "    <tr>\n",
       "      <th>2025-04-07 07:06:00+00:00</th>\n",
       "      <td>5.4216</td>\n",
       "      <td>5.4216</td>\n",
       "      <td>5.4216</td>\n",
       "      <td>5.4216</td>\n",
       "      <td>2</td>\n",
       "    </tr>\n",
       "    <tr>\n",
       "      <th>2025-04-07 07:08:00+00:00</th>\n",
       "      <td>5.4158</td>\n",
       "      <td>5.4210</td>\n",
       "      <td>5.4158</td>\n",
       "      <td>5.4184</td>\n",
       "      <td>10112</td>\n",
       "    </tr>\n",
       "    <tr>\n",
       "      <th>2025-04-07 07:12:00+00:00</th>\n",
       "      <td>5.4154</td>\n",
       "      <td>5.4200</td>\n",
       "      <td>5.4154</td>\n",
       "      <td>5.4198</td>\n",
       "      <td>2412</td>\n",
       "    </tr>\n",
       "    <tr>\n",
       "      <th>2025-04-07 07:14:00+00:00</th>\n",
       "      <td>5.4202</td>\n",
       "      <td>5.4202</td>\n",
       "      <td>5.4202</td>\n",
       "      <td>5.4202</td>\n",
       "      <td>4</td>\n",
       "    </tr>\n",
       "  </tbody>\n",
       "</table>\n",
       "</div>"
      ],
      "text/plain": [
       "Price                       Close    High     Low    Open  Volume\n",
       "Ticker                    ERNX.DE ERNX.DE ERNX.DE ERNX.DE ERNX.DE\n",
       "Datetime                                                         \n",
       "2025-04-07 07:04:00+00:00  5.4194  5.4274  5.4194  5.4274       0\n",
       "2025-04-07 07:06:00+00:00  5.4216  5.4216  5.4216  5.4216       2\n",
       "2025-04-07 07:08:00+00:00  5.4158  5.4210  5.4158  5.4184   10112\n",
       "2025-04-07 07:12:00+00:00  5.4154  5.4200  5.4154  5.4198    2412\n",
       "2025-04-07 07:14:00+00:00  5.4202  5.4202  5.4202  5.4202       4"
      ]
     },
     "execution_count": 31,
     "metadata": {},
     "output_type": "execute_result"
    }
   ],
   "source": [
    "import yfinance as yf\n",
    "import pandas as pd\n",
    "\n",
    "# 1. Download 1 month of hourly data for ERNX on Xetra\n",
    "data = yf.download(\"ERNX.DE\",\n",
    "                   period=\"1mo\",\n",
    "                   interval=\"2m\",\n",
    "                   auto_adjust=True)\n",
    "\n",
    "data.head()"
   ]
  },
  {
   "cell_type": "code",
   "execution_count": 32,
   "id": "8d95d45d",
   "metadata": {},
   "outputs": [
    {
     "data": {
      "application/vnd.microsoft.datawrangler.viewer.v0+json": {
       "columns": [
        {
         "name": "Datetime",
         "rawType": "datetime64[ns, Europe/Lisbon]",
         "type": "unknown"
        },
        {
         "name": "('Close', 'ERNX.DE')",
         "rawType": "float64",
         "type": "float"
        },
        {
         "name": "('High', 'ERNX.DE')",
         "rawType": "float64",
         "type": "float"
        },
        {
         "name": "('Low', 'ERNX.DE')",
         "rawType": "float64",
         "type": "float"
        },
        {
         "name": "('Open', 'ERNX.DE')",
         "rawType": "float64",
         "type": "float"
        },
        {
         "name": "('Volume', 'ERNX.DE')",
         "rawType": "int64",
         "type": "integer"
        }
       ],
       "conversionMethod": "pd.DataFrame",
       "ref": "9e455ebc-4c20-4ffc-91b3-70c8e0c185e1",
       "rows": [
        [
         "2025-04-07 08:04:00+01:00",
         "5.419400215148926",
         "5.4274001121521",
         "5.419400215148926",
         "5.4274001121521",
         "0"
        ],
        [
         "2025-04-07 08:06:00+01:00",
         "5.421599864959717",
         "5.421599864959717",
         "5.421599864959717",
         "5.421599864959717",
         "2"
        ],
        [
         "2025-04-07 08:08:00+01:00",
         "5.415800094604492",
         "5.421000003814697",
         "5.415800094604492",
         "5.418399810791016",
         "10112"
        ],
        [
         "2025-04-07 08:12:00+01:00",
         "5.41540002822876",
         "5.420000076293945",
         "5.41540002822876",
         "5.4197998046875",
         "2412"
        ],
        [
         "2025-04-07 08:14:00+01:00",
         "5.420199871063232",
         "5.420199871063232",
         "5.420199871063232",
         "5.420199871063232",
         "4"
        ]
       ],
       "shape": {
        "columns": 5,
        "rows": 5
       }
      },
      "text/html": [
       "<div>\n",
       "<style scoped>\n",
       "    .dataframe tbody tr th:only-of-type {\n",
       "        vertical-align: middle;\n",
       "    }\n",
       "\n",
       "    .dataframe tbody tr th {\n",
       "        vertical-align: top;\n",
       "    }\n",
       "\n",
       "    .dataframe thead tr th {\n",
       "        text-align: left;\n",
       "    }\n",
       "\n",
       "    .dataframe thead tr:last-of-type th {\n",
       "        text-align: right;\n",
       "    }\n",
       "</style>\n",
       "<table border=\"1\" class=\"dataframe\">\n",
       "  <thead>\n",
       "    <tr>\n",
       "      <th>Price</th>\n",
       "      <th>Close</th>\n",
       "      <th>High</th>\n",
       "      <th>Low</th>\n",
       "      <th>Open</th>\n",
       "      <th>Volume</th>\n",
       "    </tr>\n",
       "    <tr>\n",
       "      <th>Ticker</th>\n",
       "      <th>ERNX.DE</th>\n",
       "      <th>ERNX.DE</th>\n",
       "      <th>ERNX.DE</th>\n",
       "      <th>ERNX.DE</th>\n",
       "      <th>ERNX.DE</th>\n",
       "    </tr>\n",
       "    <tr>\n",
       "      <th>Datetime</th>\n",
       "      <th></th>\n",
       "      <th></th>\n",
       "      <th></th>\n",
       "      <th></th>\n",
       "      <th></th>\n",
       "    </tr>\n",
       "  </thead>\n",
       "  <tbody>\n",
       "    <tr>\n",
       "      <th>2025-04-07 08:04:00+01:00</th>\n",
       "      <td>5.4194</td>\n",
       "      <td>5.4274</td>\n",
       "      <td>5.4194</td>\n",
       "      <td>5.4274</td>\n",
       "      <td>0</td>\n",
       "    </tr>\n",
       "    <tr>\n",
       "      <th>2025-04-07 08:06:00+01:00</th>\n",
       "      <td>5.4216</td>\n",
       "      <td>5.4216</td>\n",
       "      <td>5.4216</td>\n",
       "      <td>5.4216</td>\n",
       "      <td>2</td>\n",
       "    </tr>\n",
       "    <tr>\n",
       "      <th>2025-04-07 08:08:00+01:00</th>\n",
       "      <td>5.4158</td>\n",
       "      <td>5.4210</td>\n",
       "      <td>5.4158</td>\n",
       "      <td>5.4184</td>\n",
       "      <td>10112</td>\n",
       "    </tr>\n",
       "    <tr>\n",
       "      <th>2025-04-07 08:12:00+01:00</th>\n",
       "      <td>5.4154</td>\n",
       "      <td>5.4200</td>\n",
       "      <td>5.4154</td>\n",
       "      <td>5.4198</td>\n",
       "      <td>2412</td>\n",
       "    </tr>\n",
       "    <tr>\n",
       "      <th>2025-04-07 08:14:00+01:00</th>\n",
       "      <td>5.4202</td>\n",
       "      <td>5.4202</td>\n",
       "      <td>5.4202</td>\n",
       "      <td>5.4202</td>\n",
       "      <td>4</td>\n",
       "    </tr>\n",
       "  </tbody>\n",
       "</table>\n",
       "</div>"
      ],
      "text/plain": [
       "Price                       Close    High     Low    Open  Volume\n",
       "Ticker                    ERNX.DE ERNX.DE ERNX.DE ERNX.DE ERNX.DE\n",
       "Datetime                                                         \n",
       "2025-04-07 08:04:00+01:00  5.4194  5.4274  5.4194  5.4274       0\n",
       "2025-04-07 08:06:00+01:00  5.4216  5.4216  5.4216  5.4216       2\n",
       "2025-04-07 08:08:00+01:00  5.4158  5.4210  5.4158  5.4184   10112\n",
       "2025-04-07 08:12:00+01:00  5.4154  5.4200  5.4154  5.4198    2412\n",
       "2025-04-07 08:14:00+01:00  5.4202  5.4202  5.4202  5.4202       4"
      ]
     },
     "execution_count": 32,
     "metadata": {},
     "output_type": "execute_result"
    }
   ],
   "source": [
    "# 2. Localize to UTC then convert to Europe/Lisbon timezone\n",
    "data.index = data.index.tz_convert('Europe/Lisbon')\n",
    "data.head()"
   ]
  },
  {
   "cell_type": "code",
   "execution_count": 33,
   "id": "8a073b1c",
   "metadata": {},
   "outputs": [
    {
     "ename": "KeyError",
     "evalue": "\"None of [Index(['Close'], dtype='object', name='Ticker')] are in the [columns]\"",
     "output_type": "error",
     "traceback": [
      "\u001b[1;31m---------------------------------------------------------------------------\u001b[0m",
      "\u001b[1;31mKeyError\u001b[0m                                  Traceback (most recent call last)",
      "Cell \u001b[1;32mIn[33], line 3\u001b[0m\n\u001b[0;32m      1\u001b[0m \u001b[38;5;66;03m# 3. Extract hour of day and group\u001b[39;00m\n\u001b[0;32m      2\u001b[0m data[\u001b[38;5;124m'\u001b[39m\u001b[38;5;124mhour\u001b[39m\u001b[38;5;124m'\u001b[39m] \u001b[38;5;241m=\u001b[39m data\u001b[38;5;241m.\u001b[39mindex\u001b[38;5;241m.\u001b[39mhour\n\u001b[1;32m----> 3\u001b[0m hourly_avg \u001b[38;5;241m=\u001b[39m data\u001b[38;5;241m.\u001b[39mgroupby(\u001b[38;5;124m'\u001b[39m\u001b[38;5;124mhour\u001b[39m\u001b[38;5;124m'\u001b[39m)[\u001b[38;5;124m'\u001b[39m\u001b[38;5;124mClose\u001b[39m\u001b[38;5;124m'\u001b[39m]\u001b[38;5;241m.\u001b[39mmean()\n\u001b[0;32m      5\u001b[0m \u001b[38;5;66;03m# 4. Find the hour with the lowest average\u001b[39;00m\n\u001b[0;32m      6\u001b[0m lowest_hour \u001b[38;5;241m=\u001b[39m hourly_avg\u001b[38;5;241m.\u001b[39midxmin()\n",
      "File \u001b[1;32mc:\\Users\\afons\\miniconda3\\Lib\\site-packages\\pandas\\core\\groupby\\groupby.py:2176\u001b[0m, in \u001b[0;36mGroupBy.mean\u001b[1;34m(self, numeric_only, engine, engine_kwargs)\u001b[0m\n\u001b[0;32m   2103\u001b[0m \u001b[38;5;129m@final\u001b[39m\n\u001b[0;32m   2104\u001b[0m \u001b[38;5;129m@Substitution\u001b[39m(name\u001b[38;5;241m=\u001b[39m\u001b[38;5;124m\"\u001b[39m\u001b[38;5;124mgroupby\u001b[39m\u001b[38;5;124m\"\u001b[39m)\n\u001b[0;32m   2105\u001b[0m \u001b[38;5;129m@Substitution\u001b[39m(see_also\u001b[38;5;241m=\u001b[39m_common_see_also)\n\u001b[1;32m   (...)\u001b[0m\n\u001b[0;32m   2110\u001b[0m     engine_kwargs: \u001b[38;5;28mdict\u001b[39m[\u001b[38;5;28mstr\u001b[39m, \u001b[38;5;28mbool\u001b[39m] \u001b[38;5;241m|\u001b[39m \u001b[38;5;28;01mNone\u001b[39;00m \u001b[38;5;241m=\u001b[39m \u001b[38;5;28;01mNone\u001b[39;00m,\n\u001b[0;32m   2111\u001b[0m ):\n\u001b[0;32m   2112\u001b[0m \u001b[38;5;250m    \u001b[39m\u001b[38;5;124;03m\"\"\"\u001b[39;00m\n\u001b[0;32m   2113\u001b[0m \u001b[38;5;124;03m    Compute mean of groups, excluding missing values.\u001b[39;00m\n\u001b[0;32m   2114\u001b[0m \n\u001b[1;32m   (...)\u001b[0m\n\u001b[0;32m   2174\u001b[0m \u001b[38;5;124;03m    Name: B, dtype: float64\u001b[39;00m\n\u001b[0;32m   2175\u001b[0m \u001b[38;5;124;03m    \"\"\"\u001b[39;00m\n\u001b[1;32m-> 2176\u001b[0m     numeric_only_bool \u001b[38;5;241m=\u001b[39m \u001b[38;5;28mself\u001b[39m\u001b[38;5;241m.\u001b[39m_resolve_numeric_only(\u001b[38;5;124m\"\u001b[39m\u001b[38;5;124mmean\u001b[39m\u001b[38;5;124m\"\u001b[39m, numeric_only, axis\u001b[38;5;241m=\u001b[39m\u001b[38;5;241m0\u001b[39m)\n\u001b[0;32m   2178\u001b[0m     \u001b[38;5;28;01mif\u001b[39;00m maybe_use_numba(engine):\n\u001b[0;32m   2179\u001b[0m         \u001b[38;5;28;01mfrom\u001b[39;00m \u001b[38;5;21;01mpandas\u001b[39;00m\u001b[38;5;21;01m.\u001b[39;00m\u001b[38;5;21;01mcore\u001b[39;00m\u001b[38;5;21;01m.\u001b[39;00m\u001b[38;5;21;01m_numba\u001b[39;00m\u001b[38;5;21;01m.\u001b[39;00m\u001b[38;5;21;01mkernels\u001b[39;00m \u001b[38;5;28;01mimport\u001b[39;00m sliding_mean\n",
      "File \u001b[1;32mc:\\Users\\afons\\miniconda3\\Lib\\site-packages\\pandas\\core\\groupby\\groupby.py:1351\u001b[0m, in \u001b[0;36mGroupBy._resolve_numeric_only\u001b[1;34m(self, how, numeric_only, axis)\u001b[0m\n\u001b[0;32m   1349\u001b[0m     obj \u001b[38;5;241m=\u001b[39m \u001b[38;5;28mself\u001b[39m\u001b[38;5;241m.\u001b[39m_obj_with_exclusions\u001b[38;5;241m.\u001b[39mT\n\u001b[0;32m   1350\u001b[0m \u001b[38;5;28;01melse\u001b[39;00m:\n\u001b[1;32m-> 1351\u001b[0m     obj \u001b[38;5;241m=\u001b[39m \u001b[38;5;28mself\u001b[39m\u001b[38;5;241m.\u001b[39m_obj_with_exclusions\n\u001b[0;32m   1352\u001b[0m check \u001b[38;5;241m=\u001b[39m obj\u001b[38;5;241m.\u001b[39m_get_numeric_data()\n\u001b[0;32m   1353\u001b[0m \u001b[38;5;28;01mif\u001b[39;00m \u001b[38;5;28mlen\u001b[39m(obj\u001b[38;5;241m.\u001b[39mcolumns) \u001b[38;5;129;01mand\u001b[39;00m \u001b[38;5;129;01mnot\u001b[39;00m \u001b[38;5;28mlen\u001b[39m(check\u001b[38;5;241m.\u001b[39mcolumns) \u001b[38;5;129;01mand\u001b[39;00m \u001b[38;5;129;01mnot\u001b[39;00m obj\u001b[38;5;241m.\u001b[39mempty:\n",
      "File \u001b[1;32mc:\\Users\\afons\\miniconda3\\Lib\\site-packages\\pandas\\_libs\\properties.pyx:36\u001b[0m, in \u001b[0;36mpandas._libs.properties.CachedProperty.__get__\u001b[1;34m()\u001b[0m\n",
      "File \u001b[1;32mc:\\Users\\afons\\miniconda3\\Lib\\site-packages\\pandas\\core\\base.py:220\u001b[0m, in \u001b[0;36mSelectionMixin._obj_with_exclusions\u001b[1;34m(self)\u001b[0m\n\u001b[0;32m    216\u001b[0m \u001b[38;5;129m@final\u001b[39m\n\u001b[0;32m    217\u001b[0m \u001b[38;5;129m@cache_readonly\u001b[39m\n\u001b[0;32m    218\u001b[0m \u001b[38;5;28;01mdef\u001b[39;00m \u001b[38;5;21m_obj_with_exclusions\u001b[39m(\u001b[38;5;28mself\u001b[39m):\n\u001b[0;32m    219\u001b[0m     \u001b[38;5;28;01mif\u001b[39;00m \u001b[38;5;28mself\u001b[39m\u001b[38;5;241m.\u001b[39m_selection \u001b[38;5;129;01mis\u001b[39;00m \u001b[38;5;129;01mnot\u001b[39;00m \u001b[38;5;28;01mNone\u001b[39;00m \u001b[38;5;129;01mand\u001b[39;00m \u001b[38;5;28misinstance\u001b[39m(\u001b[38;5;28mself\u001b[39m\u001b[38;5;241m.\u001b[39mobj, ABCDataFrame):\n\u001b[1;32m--> 220\u001b[0m         \u001b[38;5;28;01mreturn\u001b[39;00m \u001b[38;5;28mself\u001b[39m\u001b[38;5;241m.\u001b[39mobj[\u001b[38;5;28mself\u001b[39m\u001b[38;5;241m.\u001b[39m_selection_list]\n\u001b[0;32m    222\u001b[0m     \u001b[38;5;28;01mif\u001b[39;00m \u001b[38;5;28mlen\u001b[39m(\u001b[38;5;28mself\u001b[39m\u001b[38;5;241m.\u001b[39mexclusions) \u001b[38;5;241m>\u001b[39m \u001b[38;5;241m0\u001b[39m:\n\u001b[0;32m    223\u001b[0m         \u001b[38;5;66;03m# equivalent to `self.obj.drop(self.exclusions, axis=1)\u001b[39;00m\n\u001b[0;32m    224\u001b[0m         \u001b[38;5;66;03m#  but this avoids consolidating and making a copy\u001b[39;00m\n\u001b[0;32m    225\u001b[0m         \u001b[38;5;66;03m# TODO: following GH#45287 can we now use .drop directly without\u001b[39;00m\n\u001b[0;32m    226\u001b[0m         \u001b[38;5;66;03m#  making a copy?\u001b[39;00m\n\u001b[0;32m    227\u001b[0m         \u001b[38;5;28;01mreturn\u001b[39;00m \u001b[38;5;28mself\u001b[39m\u001b[38;5;241m.\u001b[39mobj\u001b[38;5;241m.\u001b[39m_drop_axis(\u001b[38;5;28mself\u001b[39m\u001b[38;5;241m.\u001b[39mexclusions, axis\u001b[38;5;241m=\u001b[39m\u001b[38;5;241m1\u001b[39m, only_slice\u001b[38;5;241m=\u001b[39m\u001b[38;5;28;01mTrue\u001b[39;00m)\n",
      "File \u001b[1;32mc:\\Users\\afons\\miniconda3\\Lib\\site-packages\\pandas\\core\\frame.py:3813\u001b[0m, in \u001b[0;36mDataFrame.__getitem__\u001b[1;34m(self, key)\u001b[0m\n\u001b[0;32m   3811\u001b[0m     \u001b[38;5;28;01mif\u001b[39;00m is_iterator(key):\n\u001b[0;32m   3812\u001b[0m         key \u001b[38;5;241m=\u001b[39m \u001b[38;5;28mlist\u001b[39m(key)\n\u001b[1;32m-> 3813\u001b[0m     indexer \u001b[38;5;241m=\u001b[39m \u001b[38;5;28mself\u001b[39m\u001b[38;5;241m.\u001b[39mcolumns\u001b[38;5;241m.\u001b[39m_get_indexer_strict(key, \u001b[38;5;124m\"\u001b[39m\u001b[38;5;124mcolumns\u001b[39m\u001b[38;5;124m\"\u001b[39m)[\u001b[38;5;241m1\u001b[39m]\n\u001b[0;32m   3815\u001b[0m \u001b[38;5;66;03m# take() does not accept boolean indexers\u001b[39;00m\n\u001b[0;32m   3816\u001b[0m \u001b[38;5;28;01mif\u001b[39;00m \u001b[38;5;28mgetattr\u001b[39m(indexer, \u001b[38;5;124m\"\u001b[39m\u001b[38;5;124mdtype\u001b[39m\u001b[38;5;124m\"\u001b[39m, \u001b[38;5;28;01mNone\u001b[39;00m) \u001b[38;5;241m==\u001b[39m \u001b[38;5;28mbool\u001b[39m:\n",
      "File \u001b[1;32mc:\\Users\\afons\\miniconda3\\Lib\\site-packages\\pandas\\core\\indexes\\base.py:6070\u001b[0m, in \u001b[0;36mIndex._get_indexer_strict\u001b[1;34m(self, key, axis_name)\u001b[0m\n\u001b[0;32m   6067\u001b[0m \u001b[38;5;28;01melse\u001b[39;00m:\n\u001b[0;32m   6068\u001b[0m     keyarr, indexer, new_indexer \u001b[38;5;241m=\u001b[39m \u001b[38;5;28mself\u001b[39m\u001b[38;5;241m.\u001b[39m_reindex_non_unique(keyarr)\n\u001b[1;32m-> 6070\u001b[0m \u001b[38;5;28mself\u001b[39m\u001b[38;5;241m.\u001b[39m_raise_if_missing(keyarr, indexer, axis_name)\n\u001b[0;32m   6072\u001b[0m keyarr \u001b[38;5;241m=\u001b[39m \u001b[38;5;28mself\u001b[39m\u001b[38;5;241m.\u001b[39mtake(indexer)\n\u001b[0;32m   6073\u001b[0m \u001b[38;5;28;01mif\u001b[39;00m \u001b[38;5;28misinstance\u001b[39m(key, Index):\n\u001b[0;32m   6074\u001b[0m     \u001b[38;5;66;03m# GH 42790 - Preserve name from an Index\u001b[39;00m\n",
      "File \u001b[1;32mc:\\Users\\afons\\miniconda3\\Lib\\site-packages\\pandas\\core\\indexes\\base.py:6130\u001b[0m, in \u001b[0;36mIndex._raise_if_missing\u001b[1;34m(self, key, indexer, axis_name)\u001b[0m\n\u001b[0;32m   6128\u001b[0m     \u001b[38;5;28;01mif\u001b[39;00m use_interval_msg:\n\u001b[0;32m   6129\u001b[0m         key \u001b[38;5;241m=\u001b[39m \u001b[38;5;28mlist\u001b[39m(key)\n\u001b[1;32m-> 6130\u001b[0m     \u001b[38;5;28;01mraise\u001b[39;00m \u001b[38;5;167;01mKeyError\u001b[39;00m(\u001b[38;5;124mf\u001b[39m\u001b[38;5;124m\"\u001b[39m\u001b[38;5;124mNone of [\u001b[39m\u001b[38;5;132;01m{\u001b[39;00mkey\u001b[38;5;132;01m}\u001b[39;00m\u001b[38;5;124m] are in the [\u001b[39m\u001b[38;5;132;01m{\u001b[39;00maxis_name\u001b[38;5;132;01m}\u001b[39;00m\u001b[38;5;124m]\u001b[39m\u001b[38;5;124m\"\u001b[39m)\n\u001b[0;32m   6132\u001b[0m not_found \u001b[38;5;241m=\u001b[39m \u001b[38;5;28mlist\u001b[39m(ensure_index(key)[missing_mask\u001b[38;5;241m.\u001b[39mnonzero()[\u001b[38;5;241m0\u001b[39m]]\u001b[38;5;241m.\u001b[39munique())\n\u001b[0;32m   6133\u001b[0m \u001b[38;5;28;01mraise\u001b[39;00m \u001b[38;5;167;01mKeyError\u001b[39;00m(\u001b[38;5;124mf\u001b[39m\u001b[38;5;124m\"\u001b[39m\u001b[38;5;132;01m{\u001b[39;00mnot_found\u001b[38;5;132;01m}\u001b[39;00m\u001b[38;5;124m not in index\u001b[39m\u001b[38;5;124m\"\u001b[39m)\n",
      "\u001b[1;31mKeyError\u001b[0m: \"None of [Index(['Close'], dtype='object', name='Ticker')] are in the [columns]\""
     ]
    }
   ],
   "source": [
    "# 3. Extract hour of day and group\n",
    "data['hour'] = data.index.hour\n",
    "hourly_avg = data.groupby('hour')['Close'].mean()\n",
    "\n",
    "# 4. Find the hour with the lowest average\n",
    "lowest_hour = hourly_avg.idxmin()\n",
    "lowest_value = hourly_avg.min()\n",
    "\n",
    "print(f\"The lowest average ERNX price over the past month occurred around {lowest_hour:02d}:00 Lisbon time, at an average close of €{lowest_value:.4f}.\")\n",
    "print(\"\\nAverage closing price by hour:\")\n",
    "print(hourly_avg)"
   ]
  }
 ],
 "metadata": {
  "kernelspec": {
   "display_name": "base",
   "language": "python",
   "name": "python3"
  },
  "language_info": {
   "codemirror_mode": {
    "name": "ipython",
    "version": 3
   },
   "file_extension": ".py",
   "mimetype": "text/x-python",
   "name": "python",
   "nbconvert_exporter": "python",
   "pygments_lexer": "ipython3",
   "version": "3.11.5"
  }
 },
 "nbformat": 4,
 "nbformat_minor": 5
}
